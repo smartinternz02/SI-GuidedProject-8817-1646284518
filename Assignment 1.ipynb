{
 "cells": [
  {
   "cell_type": "markdown",
   "id": "8fc4c273",
   "metadata": {},
   "source": [
    "# Question 1"
   ]
  },
  {
   "cell_type": "code",
   "execution_count": 1,
   "id": "5785419e",
   "metadata": {},
   "outputs": [
    {
     "data": {
      "text/plain": [
       "2401"
      ]
     },
     "execution_count": 1,
     "metadata": {},
     "output_type": "execute_result"
    }
   ],
   "source": [
    "7**4"
   ]
  },
  {
   "cell_type": "markdown",
   "id": "96d1e38b",
   "metadata": {},
   "source": [
    "# Question 2"
   ]
  },
  {
   "cell_type": "code",
   "execution_count": 2,
   "id": "ef978b2d",
   "metadata": {},
   "outputs": [
    {
     "data": {
      "text/plain": [
       "['Hi', 'there', 'sam!']"
      ]
     },
     "execution_count": 2,
     "metadata": {},
     "output_type": "execute_result"
    }
   ],
   "source": [
    "s = \"Hi there sam!\"\n",
    "list = s.split()\n",
    "list"
   ]
  },
  {
   "cell_type": "markdown",
   "id": "5281114b",
   "metadata": {},
   "source": [
    "# Question 3"
   ]
  },
  {
   "cell_type": "code",
   "execution_count": 3,
   "id": "baadcd9a",
   "metadata": {},
   "outputs": [
    {
     "name": "stdout",
     "output_type": "stream",
     "text": [
      "The diameter of Earth is 12742 kilometers\n"
     ]
    }
   ],
   "source": [
    "print(\"The diameter of {planet} is {diameter} kilometers\".format(planet=\"Earth\",diameter=\"12742\"))"
   ]
  },
  {
   "cell_type": "markdown",
   "id": "8b2dfe0e",
   "metadata": {},
   "source": [
    "# Question 4"
   ]
  },
  {
   "cell_type": "code",
   "execution_count": 10,
   "id": "ded7bee4",
   "metadata": {},
   "outputs": [
    {
     "data": {
      "text/plain": [
       "['hello']"
      ]
     },
     "execution_count": 10,
     "metadata": {},
     "output_type": "execute_result"
    }
   ],
   "source": [
    "lst = [1,2,[3,4],[5,[100,200,['hello']],23,11],1,7]\n",
    "lst[3][1][2]"
   ]
  },
  {
   "cell_type": "markdown",
   "id": "11d3005c",
   "metadata": {},
   "source": [
    "# Question 5"
   ]
  },
  {
   "cell_type": "code",
   "execution_count": 17,
   "id": "ee1d35c3",
   "metadata": {},
   "outputs": [
    {
     "data": {
      "text/plain": [
       "'hello'"
      ]
     },
     "execution_count": 17,
     "metadata": {},
     "output_type": "execute_result"
    }
   ],
   "source": [
    "d={'k1':[1,2,3,{'tricky':['oh','man','inception',{'target':[1,2,3,'hello']}]}]}\n",
    "d['k1'][3]['tricky'][3]['target'][3]"
   ]
  },
  {
   "cell_type": "markdown",
   "id": "c5f5b691",
   "metadata": {},
   "source": [
    "# Question 6"
   ]
  },
  {
   "cell_type": "code",
   "execution_count": null,
   "id": "c6c03462",
   "metadata": {},
   "outputs": [],
   "source": [
    "#The key difference between the tuples and lists is that while the tuples are immutable objects the lists are mutable.\n",
    "#This means that tuples cannot be changed while the lists can be modified. Tuples are more memory efficient than the lists"
   ]
  },
  {
   "cell_type": "markdown",
   "id": "529e1c13",
   "metadata": {},
   "source": [
    "# Question 7"
   ]
  },
  {
   "cell_type": "code",
   "execution_count": 30,
   "id": "aebfd2e0",
   "metadata": {},
   "outputs": [
    {
     "name": "stdout",
     "output_type": "stream",
     "text": [
      "domain.com\n"
     ]
    }
   ],
   "source": [
    "def username(s):\n",
    "    k=s.find(\"@\")\n",
    "    return s[k+1:]\n",
    "if __name__ == \"__main__\":\n",
    "    print(username(\"user@domain.com\"))\n",
    "    \n",
    "    "
   ]
  },
  {
   "cell_type": "markdown",
   "id": "3966cd20",
   "metadata": {},
   "source": [
    "# Question 8"
   ]
  },
  {
   "cell_type": "code",
   "execution_count": 35,
   "id": "479dce22",
   "metadata": {},
   "outputs": [
    {
     "name": "stdout",
     "output_type": "stream",
     "text": [
      "True\n"
     ]
    }
   ],
   "source": [
    "def isContains(s):\n",
    "    if \"dog\" in s:\n",
    "        return True\n",
    "    return False\n",
    "if __name__ ==\"__main__\":\n",
    "    print(isContains(\"dogsare\"))\n",
    "    "
   ]
  },
  {
   "cell_type": "markdown",
   "id": "705eb262",
   "metadata": {},
   "source": [
    "# Question 9"
   ]
  },
  {
   "cell_type": "code",
   "execution_count": 42,
   "id": "565127f2",
   "metadata": {},
   "outputs": [
    {
     "name": "stdout",
     "output_type": "stream",
     "text": [
      "soup\n",
      "salad\n"
     ]
    }
   ],
   "source": [
    "def function(s):\n",
    "    if(s[0] == 's'):\n",
    "        return True\n",
    "    return False\n",
    "sequence = ['soup','dog','salad','cat','great']\n",
    "filtered =filter(function,sequence)\n",
    "for s in filtered:\n",
    "    print(s)\n",
    "        "
   ]
  },
  {
   "cell_type": "markdown",
   "id": "a6a2946c",
   "metadata": {},
   "source": [
    "# Question 10"
   ]
  },
  {
   "cell_type": "code",
   "execution_count": 48,
   "id": "a9cd0955",
   "metadata": {},
   "outputs": [
    {
     "name": "stdout",
     "output_type": "stream",
     "text": [
      "No ticket\n"
     ]
    }
   ],
   "source": [
    "def case(s,l):\n",
    "    if(l):\n",
    "        if(s-5<=60):\n",
    "            return \"No ticket\"\n",
    "        elif(61<s-5<80):\n",
    "            return \"Small ticket\"\n",
    "        else:\n",
    "            return \"Big ticket\"\n",
    "    else:\n",
    "        if(s<=60):\n",
    "            return \"No ticket\"\n",
    "        elif(61<s<80):\n",
    "            return \"Small ticket\"\n",
    "        else:\n",
    "            return \"Big ticket\"\n",
    "        \n",
    "if __name__ ==\"__main__\":\n",
    "    s = 65\n",
    "    print(case(62,True))"
   ]
  },
  {
   "cell_type": "code",
   "execution_count": null,
   "id": "55fa4035",
   "metadata": {},
   "outputs": [],
   "source": []
  },
  {
   "cell_type": "code",
   "execution_count": null,
   "id": "0efbcc4c",
   "metadata": {},
   "outputs": [],
   "source": []
  }
 ],
 "metadata": {
  "kernelspec": {
   "display_name": "Python 3 (ipykernel)",
   "language": "python",
   "name": "python3"
  },
  "language_info": {
   "codemirror_mode": {
    "name": "ipython",
    "version": 3
   },
   "file_extension": ".py",
   "mimetype": "text/x-python",
   "name": "python",
   "nbconvert_exporter": "python",
   "pygments_lexer": "ipython3",
   "version": "3.9.7"
  }
 },
 "nbformat": 4,
 "nbformat_minor": 5
}
